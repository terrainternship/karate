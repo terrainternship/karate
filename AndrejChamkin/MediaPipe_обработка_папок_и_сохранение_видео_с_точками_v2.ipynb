{
  "cells": [
    {
      "cell_type": "markdown",
      "metadata": {
        "id": "6j6Ujv2MrI9y"
      },
      "source": [
        "## 1. Установка необходимых библиотек, включая MediaPipe и OpenCV:"
      ]
    },
    {
      "cell_type": "code",
      "execution_count": null,
      "metadata": {
        "id": "s4mr6fMJrHI9"
      },
      "outputs": [],
      "source": [
        "!pip install mediapipe opencv-python-headless"
      ]
    },
    {
      "cell_type": "code",
      "execution_count": null,
      "metadata": {
        "id": "KS8UOJWt1H5O"
      },
      "outputs": [],
      "source": [
        "import gdown, os, shutil                                                        # Системные инструменты\n",
        "from tqdm.auto import tqdm                                                      # Модуль для создания прогресс-бара при выполнении циклов\n",
        "import numpy as np\n",
        "import mediapipe as mp                                                          # Библиотека MediaPipe\n",
        "import cv2                                                                      # Библиотека обработки изображений"
      ]
    },
    {
      "cell_type": "markdown",
      "metadata": {
        "id": "VB237wv9Z_u_"
      },
      "source": [
        "Из-за проблем с распаковкой архивов с файлами в кирилице качаем не архив, а папку с файлами"
      ]
    },
    {
      "cell_type": "code",
      "execution_count": null,
      "metadata": {
        "id": "2c5mOFm-147H"
      },
      "outputs": [],
      "source": [
        "from google.colab import drive\n",
        "drive.mount('/content/drive')"
      ]
    },
    {
      "cell_type": "code",
      "execution_count": null,
      "metadata": {
        "id": "i0xWj4j89BnA"
      },
      "outputs": [],
      "source": [
        "#shutil.copytree('/content/drive/MyDrive/ИИ', '/content/ИИ')\n",
        "shutil.copytree('/content/drive/MyDrive/ИИ/МАВАШИ ГЕРИ  (КРУГОВОЙ УДАР ЗАДНЕЙ НОГОЙ)/ФРОНТАЛЬНО', '/content/ИИ/МАВАШИ ГЕРИ  (КРУГОВОЙ УДАР ЗАДНЕЙ НОГОЙ)/ФРОНТАЛЬНО')"
      ]
    },
    {
      "cell_type": "markdown",
      "metadata": {
        "id": "p2bOU5lksfuR"
      },
      "source": [
        "## 3. Получаем список всех видеофайлов в папке \"ИИ\" и ее подпапках"
      ]
    },
    {
      "cell_type": "code",
      "execution_count": null,
      "metadata": {
        "id": "eNMkKpt0shA4"
      },
      "outputs": [],
      "source": [
        "video_files = []\n",
        "for root, dirs, files in sorted(os.walk('/content/ИИ')):\n",
        "    for file in files:\n",
        "        video_files.append(os.path.join(root, file))\n",
        "video_files"
      ]
    },
    {
      "cell_type": "markdown",
      "metadata": {
        "id": "zmC7XLaGstKZ"
      },
      "source": [
        "## 4. Функция обрабатки видеофайла"
      ]
    },
    {
      "cell_type": "code",
      "execution_count": null,
      "metadata": {
        "id": "jZHf7G4fsuTA"
      },
      "outputs": [],
      "source": [
        "mp_pose = mp.solutions.pose                                                     # Создаем объекты для обнаружения скелетных точек на изображении\n",
        "mp_mask = mp.solutions.holistic                                                 # Создаем объекты для наложение маски на изображении\n",
        "mp_drawing = mp.solutions.drawing_utils                                         # Создаем объекты для рисование ключевых точек на кадре\n",
        "\n",
        "def process_video1(video_file, size=(1280, 720)):\n",
        "    folder = video_file.split(sep='/')[-4:]                                     # Разделяем путь к файлу на части: имя файла и имена папок\n",
        "    filename_no_ext = os.path.splitext(folder[3])[0]                            # Получаем имя файла без расширения, чтобы использовать его в качестве идентификатора\n",
        "    video_file_out = f'/content/{folder[0]}/{folder[1]}/{folder[2]}/{filename_no_ext}.point.mp4'\n",
        "    #video_file_out = f'{filename_no_ext}.mp4'\n",
        "    \n",
        "    pose = mp_pose.Pose(model_complexity=2,                                     # задаем параметры для 'pose'\n",
        "                        min_detection_confidence=0.5,                             \n",
        "                        min_tracking_confidence=0.5)\n",
        "    mask = mp_mask.Holistic(  model_complexity=2,                               # задаем параметры для 'mask'\n",
        "                        enable_segmentation=True)\n",
        "    \n",
        "    cap = cv2.VideoCapture(video_file)                                          # Инициализация чтения видео файла\n",
        "    frame_count = int(cap.get(cv2.CAP_PROP_FRAME_COUNT))                        # Получаем количество кадров в видео файле\n",
        "    fps = int(cap.get(cv2.CAP_PROP_FPS))                                        # Получаем частоту кадров\n",
        "\n",
        "    record = cv2.VideoWriter(                                                   # Инициализация записи видео файла\n",
        "                          video_file_out,                                       # Путь записи видео файла\n",
        "                          cv2.VideoWriter_fourcc('M','P','4','V'),              # 4-значный код кодека для сжатия кадров\n",
        "                          fps,                                                  # количество кадров в секунду\n",
        "                          size,                                                 # размер кадров \n",
        "                          True)\n",
        "            \n",
        "    for i in tqdm(range(frame_count)):                                          # Пробегаем по каждому кадру в видео файле\n",
        "        ret, image = cap.read()\n",
        "        if not ret:                                                             # Если кадр не считался, то прекращаем цикл\n",
        "              break\n",
        "\n",
        "        image = cv2.resize(image, (size))                                       # Приводим размер изображения к размеру видео                 \n",
        "        image = cv2.cvtColor(image, cv2.COLOR_BGR2RGB)                          # Переводим картинку в RGB\n",
        "\n",
        "        results1 = mask.process(image)                                          # С помощью метода process выполняется сегментация на переднем и заднем планах \n",
        "        #condition = np.stack((results1.segmentation_mask,) * 3, axis=-1) > 0.5 # Булева маска сегментации на 2 канала с порогом 0,5\n",
        "        if results1.segmentation_mask is not None:\n",
        "            condition = np.stack((results1.segmentation_mask,) * 3, axis=-1) > 0.5\n",
        "        else:\n",
        "            print('В results1.segmentation_mask ошибка')\n",
        "            #results1.segmentation_mask = np.nan_to_num(results1.segmentation_mask, nan=0.0)\n",
        "            results1.segmentation_mask = np.zeros_like(results1.segmentation_mask)\n",
        "            condition = np.stack((results1.segmentation_mask,) * 3, axis=-1) > 0.5\n",
        "\n",
        "        bg_image = np.zeros(image.shape, dtype=np.uint8)                        # Изображение заднего плана, заполненное нулями\n",
        "        image = np.where(condition, image, bg_image)                            # Выходное изображение содержит передний план, если значение в маске сегментации равно 1, и задний план, если значение равно 0\n",
        "\n",
        "        results2 = pose.process(image)                                          # Обрабатываем изображение для обнаружения скелетных точек\n",
        "        mp_drawing.draw_landmarks(image,                                        # Рисуем ключевые точки на кадре\n",
        "                                  results2.pose_landmarks, \n",
        "                                  mp_pose.POSE_CONNECTIONS)\n",
        "        image = cv2.cvtColor(image, cv2.COLOR_RGB2BGR)                          # Конверуем кадр обратно в BGR\n",
        "        record.write(image)                                                     # Записываем текущий кадр         \n",
        "    cap.release()                                                               # Закрываем захват видео\n",
        "    record.release()                                                            # Закрываем запись\n",
        "    pose.close()\n",
        "    mask.close() \n",
        "\n",
        "    os.remove(video_file)                                                       # удаляем исходный видео-файл\n",
        "    os.rename(video_file_out, video_file)                                       # переименовываем/перемещаем созданный файл на место удаленного \n",
        "                                            "
      ]
    },
    {
      "cell_type": "markdown",
      "metadata": {
        "id": "aAIK7Q4us0Qf"
      },
      "source": [
        "## 5. Обрабатываем видеофайлы из списка и записываем видео с скелетными точками"
      ]
    },
    {
      "cell_type": "code",
      "execution_count": null,
      "metadata": {
        "id": "p9QhCuRGs05o"
      },
      "outputs": [],
      "source": [
        "size = (1280, 720)                                                              # Размер сохраняемого видео\n",
        "\n",
        "for video_file in tqdm(video_files):\n",
        "    #print(video_file)\n",
        "    process_video1(video_file, size)"
      ]
    }
  ],
  "metadata": {
    "colab": {
      "provenance": []
    },
    "kernelspec": {
      "display_name": "Python 3",
      "name": "python3"
    },
    "language_info": {
      "name": "python"
    }
  },
  "nbformat": 4,
  "nbformat_minor": 0
}