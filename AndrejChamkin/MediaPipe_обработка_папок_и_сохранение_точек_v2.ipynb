{
  "nbformat": 4,
  "nbformat_minor": 0,
  "metadata": {
    "colab": {
      "provenance": [],
      "gpuType": "T4"
    },
    "kernelspec": {
      "name": "python3",
      "display_name": "Python 3"
    },
    "language_info": {
      "name": "python"
    }
  },
  "cells": [
    {
      "cell_type": "markdown",
      "source": [
        "## 1. Установка необходимых библиотек, включая MediaPipe и OpenCV:"
      ],
      "metadata": {
        "id": "6j6Ujv2MrI9y"
      }
    },
    {
      "cell_type": "code",
      "source": [
        "!pip install mediapipe opencv-python-headless"
      ],
      "metadata": {
        "id": "s4mr6fMJrHI9"
      },
      "execution_count": null,
      "outputs": []
    },
    {
      "cell_type": "code",
      "source": [
        "import gdown, os, shutil                                                        # Системные инструменты\n",
        "from tqdm.auto import tqdm                                                      # Модуль для создания прогресс-бара при выполнении циклов\n",
        "import numpy as np\n",
        "import csv\n",
        "import mediapipe as mp                                                          # Библиотека MediaPipe\n",
        "import cv2                                                                      # Библиотека обработки изображений"
      ],
      "metadata": {
        "id": "KS8UOJWt1H5O"
      },
      "execution_count": null,
      "outputs": []
    },
    {
      "cell_type": "markdown",
      "source": [
        "Из-за проблем с распаковкой архивов с файлами в кирилице качаем не архив, а папку с файлами"
      ],
      "metadata": {
        "id": "VB237wv9Z_u_"
      }
    },
    {
      "cell_type": "code",
      "source": [
        "from google.colab import drive\n",
        "drive.mount('/content/drive')\n",
        "#shutil.copytree('/content/drive/MyDrive/ИИ', '/content/ИИ')\n",
        "shutil.copytree('/content/drive/MyDrive/ИИ/ГЕДАН БАРАЙ (БЛОК ПЕРЕДНЕЙ РУКОЙ)', '/content/ИИ/ГЕДАН БАРАЙ (БЛОК ПЕРЕДНЕЙ РУКОЙ)')"
      ],
      "metadata": {
        "id": "2c5mOFm-147H"
      },
      "execution_count": null,
      "outputs": []
    },
    {
      "cell_type": "markdown",
      "source": [
        "## 2. Создание пустого файл CSV с заголовками содержащими: номера и типы точек x, y, z и visibility."
      ],
      "metadata": {
        "id": "p1dt7yMLrMi6"
      }
    },
    {
      "cell_type": "code",
      "execution_count": null,
      "metadata": {
        "id": "_9h9RGV-rAOK"
      },
      "outputs": [],
      "source": [
        "with open('dataset.csv', 'w', newline='') as f:\n",
        "    writer = csv.writer(f)\n",
        "    writer.writerow([ 'correct', 'main_folder', 'folder', 'filename', 'frame#', 'x_0', 'y_0', 'z_0', 'v_0',\n",
        "                     'x_1', 'y_1', 'z_1', 'v_1', 'x_2', 'y_2', 'z_2', 'v_2',\n",
        "                     'x_3', 'y_3', 'z_3', 'v_3', 'x_4', 'y_4', 'z_4', 'v_4',\n",
        "                     'x_5', 'y_5', 'z_5', 'v_5', 'x_6', 'y_6', 'z_6', 'v_6',\n",
        "                     'x_7', 'y_7', 'z_7', 'v_7', 'x_8', 'y_8', 'z_8', 'v_8',\n",
        "                     'x_9', 'y_9', 'z_9', 'v_9', 'x_10', 'y_10', 'z_10', 'v_10',\n",
        "                     'x_11', 'y_11', 'z_11', 'v_11', 'x_12', 'y_12', 'z_12', 'v_12',\n",
        "                     'x_13', 'y_13', 'z_13', 'v_13', 'x_14', 'y_14', 'z_14', 'v_14',\n",
        "                     'x_15', 'y_15', 'z_15', 'v_15', 'x_16', 'y_16', 'z_16', 'v_16',\n",
        "                     'x_17', 'y_17', 'z_17', 'v_17', 'x_18', 'y_18', 'z_18', 'v_18',\n",
        "                     'x_19', 'y_19', 'z_19', 'v_19', 'x_20', 'y_20', 'z_20', 'v_20',\n",
        "                     'x_21', 'y_21', 'z_21', 'v_21', 'x_22', 'y_22', 'z_22', 'v_22',\n",
        "                     'x_23', 'y_23', 'z_23', 'v_23', 'x_24', 'y_24', 'z_24', 'v_24',\n",
        "                     'x_25', 'y_25', 'z_25', 'v_25', 'x_26', 'y_26', 'z_26', 'v_26',\n",
        "                     'x_27', 'y_27', 'z_27', 'v_27', 'x_28', 'y_28', 'z_28', 'v_28',\n",
        "                     'x_29', 'y_29', 'z_29', 'v_29', 'x_30', 'y_30', 'z_30', 'v_30',\n",
        "                     'x_31', 'y_31', 'z_31', 'v_31', 'x_32', 'y_32', 'z_32', 'v_32'])"
      ]
    },
    {
      "cell_type": "markdown",
      "source": [
        "## 3. Получаем список всех видеофайлов в папке \"ИИ\" и ее подпапках"
      ],
      "metadata": {
        "id": "p2bOU5lksfuR"
      }
    },
    {
      "cell_type": "code",
      "source": [
        "video_files = []\n",
        "for root, dirs, files in sorted(os.walk('/content/ИИ')):\n",
        "    for file in files:\n",
        "        video_files.append(os.path.join(root, file))\n",
        "video_files"
      ],
      "metadata": {
        "id": "eNMkKpt0shA4"
      },
      "execution_count": null,
      "outputs": []
    },
    {
      "cell_type": "markdown",
      "source": [
        "## 4. Функция обрабатки видеофайла -> записывает скелетные точки в файл CSV."
      ],
      "metadata": {
        "id": "zmC7XLaGstKZ"
      }
    },
    {
      "cell_type": "code",
      "source": [
        "mp_pose = mp.solutions.pose                                                     # Создаем объекты для обнаружения скелетных точек на изображении\n",
        "mp_mask = mp.solutions.holistic                                                 # Создаем объекты для наложение маски на изображении\n",
        "\n",
        "def process_video(video_file, size=(854, 480)):\n",
        "    folder = video_file.split(sep='/')[-4:]                                     # Разделяем путь к файлу на части: имя файла и имена папок\n",
        "    filename_no_ext = os.path.splitext(folder[3])[0]                            # Получаем имя файла без расширения, чтобы использовать его в качестве идентификатора\n",
        "\n",
        "    pose = mp_pose.Pose(model_complexity=2,                                     # задаем параметры для 'pose'\n",
        "                        min_detection_confidence=0.5,\n",
        "                        min_tracking_confidence=0.5)\n",
        "    mask = mp_mask.Holistic(  model_complexity=2,                               # задаем параметры для 'mask'\n",
        "                        enable_segmentation=True)\n",
        "\n",
        "    cap = cv2.VideoCapture(video_file)                                      # Создаем объект cv2.VideoCapture для чтения видео файла\n",
        "    frame_count = int(cap.get(cv2.CAP_PROP_FRAME_COUNT))                    # Получаем количество кадров в видео файле\n",
        "\n",
        "    with open('dataset.csv', 'a', newline='') as f:\n",
        "        writer = csv.writer(f)\n",
        "        n = 0                                                               # Перменная для нумерации кадров\n",
        "        for i in tqdm(range(frame_count)):                                  # Пробегаем по каждому кадру в видео файле\n",
        "            ret, image = cap.read()\n",
        "            if not ret:                                                     # Если кадр не считался, то прекращаем цикл\n",
        "                break\n",
        "            image = cv2.resize(image, (size))                                       # Приводим размер изображения к заданному размеру\n",
        "            image = cv2.cvtColor(image, cv2.COLOR_BGR2RGB)                  # Переводим картинку в RGB\n",
        "\n",
        "            results1 = mask.process(image)                                          # С помощью метода process выполняется сегментация на переднем и заднем планах\n",
        "            #condition = np.stack((results1.segmentation_mask,) * 3, axis=-1) > 0.5 # Булева маска сегментации на 2 канала с порогом 0,5\n",
        "            if results1.segmentation_mask is not None:\n",
        "                condition = np.stack((results1.segmentation_mask,) * 3, axis=-1) > 0.5\n",
        "            else:\n",
        "                print('В results1.segmentation_mask ошибка')\n",
        "                results1.segmentation_mask = np.nan_to_num(results1.segmentation_mask, nan=0.0)\n",
        "                #results1.segmentation_mask = np.zeros_like(results1.segmentation_mask)\n",
        "                condition = np.stack((results1.segmentation_mask,) * 3, axis=-1) > 0.5\n",
        "\n",
        "            bg_image = np.zeros(image.shape, dtype=np.uint8)                        # Изображение заднего плана, заполненное нулями\n",
        "            image = np.where(condition, image, bg_image)                            # Выходное изображение содержит передний план, если значение в маске сегментации равно 1, и задний план, если значение равно 0\n",
        "\n",
        "            results2 = pose.process(image)                                   # Обрабатываем изображение для обнаружения скелетных точек\n",
        "\n",
        "            if results2.pose_landmarks is not None:                          # Если скелетные точки обнаружены\n",
        "                row = [folder[0], folder[1], folder[2], filename_no_ext, n] # Создаем новую строку \"row\" в CSV файле, содержащую имена папок, имя файла и координаты всех 33 скелетных точек\n",
        "                for landmark in results2.pose_landmarks.landmark:\n",
        "                    row.append(landmark.x)\n",
        "                    row.append(landmark.y)\n",
        "                    row.append(landmark.z)\n",
        "                    row.append(landmark.visibility)\n",
        "                writer.writerow(row)                                        # Записываем строку \"row\" в CSV файл\n",
        "                n += 1                                                      # Увеличиваем номер кадра\n",
        "\n",
        "    cap.release()                                                           # Освобождаем ресурсы, используемые 'cap'\n",
        "    pose.close()\n",
        "    mask.close()"
      ],
      "metadata": {
        "id": "jZHf7G4fsuTA"
      },
      "execution_count": null,
      "outputs": []
    },
    {
      "cell_type": "markdown",
      "source": [
        "## 5. Обрабатываем видеофайлы из списка и записываем скелетные точки в файл CSV"
      ],
      "metadata": {
        "id": "aAIK7Q4us0Qf"
      }
    },
    {
      "cell_type": "code",
      "source": [
        "size = (1280, 720)\n",
        "\n",
        "for video_file in tqdm(video_files):\n",
        "    process_video(video_file, size)"
      ],
      "metadata": {
        "id": "p9QhCuRGs05o"
      },
      "execution_count": null,
      "outputs": []
    },
    {
      "cell_type": "markdown",
      "source": [
        "Сохраняем получившийся CSV файл на /content/drive/MyDrive"
      ],
      "metadata": {
        "id": "B4pts4uds5RZ"
      }
    },
    {
      "cell_type": "code",
      "source": [
        "shutil.copy('/content/dataset.csv', '/content/drive/MyDrive/dataset.csv')"
      ],
      "metadata": {
        "id": "FRbjIbOtjFM3"
      },
      "execution_count": null,
      "outputs": []
    }
  ]
}